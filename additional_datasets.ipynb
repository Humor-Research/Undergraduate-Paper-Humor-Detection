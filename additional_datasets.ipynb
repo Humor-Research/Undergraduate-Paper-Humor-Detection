{
 "cells": [
  {
   "cell_type": "code",
   "execution_count": 1,
   "id": "9ed3a713-c4bc-4af7-b3d3-e43c61c9c0ed",
   "metadata": {},
   "outputs": [],
   "source": [
    "from extraction import extract_subtitles, extract_dialogues\n",
    "\n",
    "import pandas as pd"
   ]
  },
  {
   "cell_type": "markdown",
   "id": "d35c1b8a-9a22-4a8a-9997-aa547232ee3c",
   "metadata": {},
   "source": [
    "### Субтитры"
   ]
  },
  {
   "cell_type": "code",
   "execution_count": 2,
   "id": "bd2ef1b8-b54e-4cca-8c6c-cd82bcb5d75f",
   "metadata": {
    "tags": []
   },
   "outputs": [
    {
     "data": {
      "text/plain": [
       "'\\n%%bash\\nlink=\"https://www.opensubtitles.org/en/subtitleserve/sub/3544717\"\\nepisode=\"04\"\\nseason=\"02\"\\ntitle=\"friends\"\\nwget $link\\nlink_id=$(echo $link | rev | cut -d \"/\" -f1 | rev)\\nunzip $link_id\\nrm -f subtitles_orig/${title}/S${season}E${episode}.srt\\nmv *.srt S${season}E${episode}.srt\\nmv S${season}E${episode}.srt subtitles_orig/$title\\nrm $link_id\\nrm -f *.nfo *.txt *.sub\\n'"
      ]
     },
     "execution_count": 2,
     "metadata": {},
     "output_type": "execute_result"
    }
   ],
   "source": [
    "'''\n",
    "%%bash\n",
    "link=\"https://www.opensubtitles.org/en/subtitleserve/sub/3544717\"\n",
    "episode=\"04\"\n",
    "season=\"02\"\n",
    "title=\"friends\"\n",
    "wget $link\n",
    "link_id=$(echo $link | rev | cut -d \"/\" -f1 | rev)\n",
    "unzip $link_id\n",
    "rm -f subtitles_orig/${title}/S${season}E${episode}.srt\n",
    "mv *.srt S${season}E${episode}.srt\n",
    "mv S${season}E${episode}.srt subtitles_orig/$title\n",
    "rm $link_id\n",
    "rm -f *.nfo *.txt *.sub\n",
    "'''"
   ]
  },
  {
   "cell_type": "markdown",
   "id": "7b288667-3e81-40ac-a8ad-2914984bd80e",
   "metadata": {},
   "source": [
    "Субтитры"
   ]
  },
  {
   "cell_type": "code",
   "execution_count": 2,
   "id": "b668235b-8e01-4a67-9f2f-c24bd9ec0489",
   "metadata": {
    "tags": []
   },
   "outputs": [
    {
     "name": "stdout",
     "output_type": "stream",
     "text": [
      ".DS_Store\n",
      ".ipynb_checkpoints\n"
     ]
    }
   ],
   "source": [
    "import os \n",
    "import pandas as pd\n",
    "\n",
    "basic = \"raw/subtitles_orig/friends/\"\n",
    "dest = \"friends/\"\n",
    "\n",
    "df = pd.DataFrame(columns=['text'])\n",
    "for i in os.listdir(basic):\n",
    "    dest_path = dest + i[:-3] + 'csv'\n",
    "    try:\n",
    "        extract_subtitles(basic + i, dest_path)\n",
    "        curr_df = pd.read_csv(dest_path, usecols=['text'])\n",
    "        df = pd.concat((df, curr_df), ignore_index=True)\n",
    "    except:\n",
    "        print(i)\n",
    "        continue\n",
    "\n",
    "df.to_csv('./friends.csv', index=False)"
   ]
  },
  {
   "cell_type": "code",
   "execution_count": 3,
   "id": "0ed92aa0-55c4-4689-b21a-14d34e01d05f",
   "metadata": {},
   "outputs": [
    {
     "name": "stdout",
     "output_type": "stream",
     "text": [
      ".DS_Store\n",
      ".ipynb_checkpoints\n"
     ]
    }
   ],
   "source": [
    "basic = \"raw/subtitles_orig/walking_dead/\"\n",
    "dest = \"walking_dead/\"\n",
    "\n",
    "df = pd.DataFrame(columns=['text'])\n",
    "for i in os.listdir(basic):\n",
    "    try:\n",
    "        dest_path = dest + i[:-3] + 'csv'\n",
    "        extract_subtitles(basic + i, dest + i[:-3] + 'csv')\n",
    "        curr_df = pd.read_csv(dest_path, usecols=['text'])\n",
    "        df = pd.concat((df, curr_df), ignore_index=True)\n",
    "    except:\n",
    "        print(i)\n",
    "        continue\n",
    "\n",
    "df.to_csv('./walking_dead.csv', index=False)"
   ]
  },
  {
   "cell_type": "code",
   "execution_count": 13,
   "id": "ecac4292-c8a7-41e2-8312-0e268ead59b6",
   "metadata": {},
   "outputs": [
    {
     "data": {
      "text/html": [
       "<div>\n",
       "<style scoped>\n",
       "    .dataframe tbody tr th:only-of-type {\n",
       "        vertical-align: middle;\n",
       "    }\n",
       "\n",
       "    .dataframe tbody tr th {\n",
       "        vertical-align: top;\n",
       "    }\n",
       "\n",
       "    .dataframe thead th {\n",
       "        text-align: right;\n",
       "    }\n",
       "</style>\n",
       "<table border=\"1\" class=\"dataframe\">\n",
       "  <thead>\n",
       "    <tr style=\"text-align: right;\">\n",
       "      <th></th>\n",
       "      <th>text</th>\n",
       "    </tr>\n",
       "  </thead>\n",
       "  <tbody>\n",
       "    <tr>\n",
       "      <th>0</th>\n",
       "      <td>Her promises can be believed.</td>\n",
       "    </tr>\n",
       "    <tr>\n",
       "      <th>1</th>\n",
       "      <td>Her promises cannot be trusted.</td>\n",
       "    </tr>\n",
       "    <tr>\n",
       "      <th>2</th>\n",
       "      <td>His kisses are demonstrative and intense.</td>\n",
       "    </tr>\n",
       "    <tr>\n",
       "      <th>3</th>\n",
       "      <td>His kiss is unemotional.</td>\n",
       "    </tr>\n",
       "    <tr>\n",
       "      <th>4</th>\n",
       "      <td>It's very cold</td>\n",
       "    </tr>\n",
       "    <tr>\n",
       "      <th>...</th>\n",
       "      <td>...</td>\n",
       "    </tr>\n",
       "    <tr>\n",
       "      <th>9101</th>\n",
       "      <td>Emails are fast.</td>\n",
       "    </tr>\n",
       "    <tr>\n",
       "      <th>9102</th>\n",
       "      <td>The dinner was very dry and tasteless.</td>\n",
       "    </tr>\n",
       "    <tr>\n",
       "      <th>9103</th>\n",
       "      <td>The dinner was award winning.</td>\n",
       "    </tr>\n",
       "    <tr>\n",
       "      <th>9104</th>\n",
       "      <td>The explanation was easy and simple to understand</td>\n",
       "    </tr>\n",
       "    <tr>\n",
       "      <th>9105</th>\n",
       "      <td>The explanation made to sense.</td>\n",
       "    </tr>\n",
       "  </tbody>\n",
       "</table>\n",
       "<p>9106 rows × 1 columns</p>\n",
       "</div>"
      ],
      "text/plain": [
       "                                                   text\n",
       "0                         Her promises can be believed.\n",
       "1                       Her promises cannot be trusted.\n",
       "2             His kisses are demonstrative and intense.\n",
       "3                              His kiss is unemotional.\n",
       "4                                        It's very cold\n",
       "...                                                 ...\n",
       "9101                                   Emails are fast.\n",
       "9102             The dinner was very dry and tasteless.\n",
       "9103                      The dinner was award winning.\n",
       "9104  The explanation was easy and simple to understand\n",
       "9105                     The explanation made to sense.\n",
       "\n",
       "[9106 rows x 1 columns]"
      ]
     },
     "execution_count": 13,
     "metadata": {},
     "output_type": "execute_result"
    }
   ],
   "source": [
    "pd.read_csv('data/fig_qa_end.csv')"
   ]
  },
  {
   "cell_type": "markdown",
   "id": "289d282b-e36d-4ee9-af51-8f0b4eebefe2",
   "metadata": {},
   "source": [
    "### Книги"
   ]
  },
  {
   "cell_type": "code",
   "execution_count": 2,
   "id": "08b66e19-6684-49e0-8b53-5862e73871a1",
   "metadata": {},
   "outputs": [],
   "source": [
    "extract_dialogues('raw/books_orig/alice.txt', './alice.csv', max_distance=200)"
   ]
  },
  {
   "cell_type": "code",
   "execution_count": 3,
   "id": "ea50f785-9c0c-42f7-b22f-9cead5ed9731",
   "metadata": {},
   "outputs": [],
   "source": [
    "extract_dialogues('raw/books_orig/curiousity.txt', './curiousity.csv', mode = \"‘’\", max_distance=200)"
   ]
  },
  {
   "cell_type": "code",
   "execution_count": 4,
   "id": "a46d19a0-836e-40b6-9adc-3628cb563d83",
   "metadata": {},
   "outputs": [],
   "source": [
    "extract_dialogues('raw/books_orig/three_men.txt', './three_men.csv', max_distance=200)"
   ]
  },
  {
   "cell_type": "markdown",
   "id": "b6a15cff-bc2f-493b-afe3-3aa4adb2a85c",
   "metadata": {},
   "source": [
    "Эксперимент"
   ]
  },
  {
   "cell_type": "code",
   "execution_count": 4,
   "id": "7440915c-e8e1-413e-9c96-9accf78a8254",
   "metadata": {},
   "outputs": [],
   "source": [
    "import re\n",
    "\n",
    "book = open('raw/books_orig/alice.txt', 'r')\n",
    "mode = '“”'\n",
    "\n",
    "speech = mode[0] + '((?!' + mode[1] + ').)*?' + mode[0] + '.*?' + mode[1]\n",
    "speech = re.compile(speech, flags=re.DOTALL)\n",
    "dialogues = speech.finditer(book.read())"
   ]
  },
  {
   "cell_type": "code",
   "execution_count": 5,
   "id": "fe2ac697-aad2-487f-a62c-cf93c242f89b",
   "metadata": {},
   "outputs": [
    {
     "name": "stdout",
     "output_type": "stream",
     "text": [
      "<re.Match object; span=(17039, 17286), match='“How doth the little crocodile\\n    Improve his s>\n",
      "<re.Match object; span=(49728, 49784), match='“Well, I’ve tried to say “How doth the little bus>\n",
      "<re.Match object; span=(49856, 49898), match='“Repeat, “_You are old, Father William_,’”'>\n",
      "<re.Match object; span=(84113, 84246), match='“—that begins with an M, such as\\nmouse-traps, an>\n",
      "<re.Match object; span=(114493, 114943), match='“There’s a porpoise close behind us, and he’s tre>\n",
      "<re.Match object; span=(119810, 119915), match='“’Tis the voice of the Lobster; I heard him decla>\n",
      "<re.Match object; span=(122294, 122861), match='“Beautiful Soup, so rich and green,\\nWaiting in a>\n",
      "<re.Match object; span=(131299, 131461), match='“I’ve so often read in\\nthe newspapers, at the en>\n",
      "<re.Match object; span=(140258, 140333), match='“I seem to see some meaning in them, after all.\\n>\n"
     ]
    }
   ],
   "source": [
    "for i in dialogues:\n",
    "    print(i)"
   ]
  },
  {
   "cell_type": "markdown",
   "id": "9b34cd89-33c0-416f-8992-8dab04d410ee",
   "metadata": {},
   "source": [
    "Конкатенация файлов"
   ]
  },
  {
   "cell_type": "code",
   "execution_count": 16,
   "id": "4952528d-461a-4aea-ac5b-60c0a57fec3e",
   "metadata": {
    "collapsed": true,
    "jupyter": {
     "outputs_hidden": true
    },
    "tags": []
   },
   "outputs": [
    {
     "name": "stdout",
     "output_type": "stream",
     "text": [
      "Success friends.s01e15.720p.bluray.x264--sujaidr.srt\n",
      "Success friends.s01e04.720p.bluray.x264--sujaidr.srt\n",
      "Success friends.s01e21.720p.bluray.x264--sujaidr.srt\n",
      "Success friends.s01e12.720p.bluray.x264--sujaidr.srt\n",
      "Success friends.s01e03.720p.bluray.x264--sujaidr.srt\n",
      "Success friends.s01e20.720p.bluray.x264--sujaidr.srt\n",
      "Success friends.s01e05.720p.bluray.x264--sujaidr.srt\n",
      "Success friends.s01e14.720p.bluray.x264--sujaidr.srt\n",
      "Success friends.s01e02.720p.bluray.x264--sujaidr.srt\n",
      "Success friends.s01e13.720p.bluray.x264--sujaidr.srt\n",
      "Success friends.s01e24.720p.bluray.x264--sujaidr.srt\n",
      "Success friends.s01e23.720p.bluray.x264--sujaidr.srt\n",
      "Success friends.s01e18.720p.bluray.x264--sujaidr.srt\n",
      "Success friends.s01e06.720p.bluray.x264--sujaidr.srt\n",
      "Success friends.s01e17.720p.bluray.x264--sujaidr.srt\n",
      "Success friends_s01e01_720p_bluray_x264-sujaidr.srt\n",
      "Success friends.s01e09.720p.bluray.x264--sujaidr.srt\n",
      "Success friends.s01e11.720p.bluray.x264--sujaidr.srt\n",
      "Success friends.s01e16.720p.bluray.x264--sujaidr.srt\n",
      "Success friends.s01e10.720p.bluray.x264-sujaidr.srt\n",
      "Success friends.s01e08.720p.bluray.x264--sujaidr.srt\n",
      "Success friends.s01e19.720p.bluray.x264--sujaidr.srt\n",
      "Success friends.s01e07.720p.bluray.x264--sujaidr.srt\n",
      "Success friends.s01e22.720p.bluray.x264--sujaidr.srt\n",
      "Failure Friends - 2x11 - The One With The Lesbian Wedding.en.sub\n",
      "Failure Friends - 2x10 - The One With Russ.en.sub\n",
      "Failure Friends - 2x19 - The One Where Eddie Won't Go.en.sub\n",
      "Failure Friends - 2x03 - The One Where Heckles Dies.en.sub\n",
      "Failure Friends - 2x01 - The One With Ross's New Girlfriend.en.sub\n",
      "Failure Friends - 2x20 - The One Where Old Yeller Dies.en.sub\n",
      "Failure Friends - 2x13 - The One After The Super Bowl (2).en.sub\n",
      "Failure Friends - 2x23 - The One With The Chicken Pox.en.sub\n",
      "Failure Friends - 2x05 - The One With Five Steaks And An Eggplant.en.sub\n",
      "Failure Friends - 2x12 - The One After The Super Bowl (1).en.sub\n",
      "Failure Friends - 2x22 - The One With The Two Parties.en.sub\n",
      "Failure Friends - 2x02 - The One With The Breast Milk.en.sub\n",
      "Failure Friends - 2x06 - The One With The Baby On The Bus.en.sub\n",
      "Failure Friends - 2x18 - The One Where Dr. Ramoray Dies.en.sub\n",
      "Failure Friends - 2x08 - The One With The List.en.sub\n",
      "Success Friends - 2x14 - The One With The Prom Video.720p HDTV.en.srt\n",
      "Failure Friends - 2x24 - The One With Barry And Mindy's Wedding.en.sub\n",
      "Failure Friends - 2x16 - The One Where Joey Moves Out.en.sub\n",
      "Failure Friends - 2x17 - The One Where Eddie Moves In.en.sub\n",
      "Failure Friends - 2x07 - The One Where Ross Finds Out.en.sub\n",
      "Failure Friends - 2x04 - The One With Phoebe's Husband.en.sub\n",
      "Failure Friends - 2x09 - The One With Phoebe's Dad.en.sub\n",
      "Failure Friends - 2x15 - The One Where Ross And Rachel...You Know.en.sub\n",
      "Failure Friends - 2x21 - The One With The Bullies.en.sub\n",
      "Success Friends - 3x20 - The One With The Dollhouse.en.sub\n",
      "Success Friends - 3x04 - The One With The Metaphorical Tunnel.en.sub\n",
      "Success Friends - 3x03 - The One With The Jam.en.sub\n",
      "Success Friends - 3x08 - The One With The Giant Poking Device.en.sub\n",
      "Success Friends - 3x21 - The One With A Chick And A Duck.en.sub\n",
      "Success Friends - 3x11 - The One Where Chandler Can't Remember Which Sister.en.sub\n",
      "Failure Friends - 3x12 - The One With All The Jealousy.en.sub\n",
      "Success Friends - 3x05 - The One With Frank Jr..en.sub\n",
      "Success Friends - 3x19 - The One With The Tiny T-Shirt.en.sub\n",
      "Failure Friends - 3x18 - The One With The Hypnosis Tape.en.sub\n",
      "Success Friends - 3x06 - The One With The Flashback.en.sub\n",
      "Failure Friends - 3x15 - The One Where Ross And Rachel Take A Break (1).en.sub\n",
      "Success Friends - 3x25 - The One At The Beach.en.sub\n",
      "Success Friends - 3x14 - The One With Phoebe's Ex-Partner.en.sub\n",
      "Success Friends - 3x02 - The One Where No One's Ready.en.sub\n",
      "Success Friends - 3x10 - The One Where Rachel Quits.en.sub\n",
      "Success Friends - 3x13 - The One Where Monica And Richard Are Just Friends.en.sub\n",
      "Success Friends - 3x22 - The One With The Screamer.en.sub\n",
      "Success Friends - 3x24 - The One With The Ultimate Fighting Champion.en.sub\n",
      "Success Friends - 3x23 - The One With Ross's Thing.en.sub\n",
      "Success Friends - 3x07 - The One With The Race Car Bed.en.sub\n",
      "Success Friends - 3x17 - The One Without The Ski Trip.en.sub\n",
      "Success Friends - 3x16 - The One With The Morning After (2).en.sub\n",
      "Failure Friends - 4x14 - The One With Joey's Dirty Day.en.sub\n",
      "Failure Friends - 4x15 - The One With All The Rugby.en.sub\n",
      "Failure Friends - 4x01 - The One With The Jellyfish.en.sub\n",
      "Failure Friends - 4x02 - The One With The Cat.en.sub\n",
      "Failure Friends - 4x09 - The One Where They're Going To Party!.en.sub\n",
      "Failure Friends - 4x06 - The One With The Dirty Girl.en.sub\n",
      "Failure Friends - 4x23 - The One With Ross's Wedding (1).en.sub\n",
      "Failure Friends - 4x16 - The One With The Fake Party.en.sub\n",
      "Failure Friends - 4x08 - The One With Chandler In A Box.en.sub\n",
      "Failure Friends - 4x03 - The One With The 'Cuffs.en.sub\n",
      "Failure Friends - 4x10 - The One With The Girl From Poughkeepsie.en.sub\n",
      "Failure Friends - 4x04 - The One With The Ballroom Dancing.en.sub\n",
      "Failure Friends - 4x18 - The One With Rachel's New Dress.en.sub\n",
      "Failure Friends - 4x13 - The One With Rachel's Crush.en.sub\n",
      "Failure Friends - 4x07 - The One Where Chandler Crosses The Line.en.sub\n",
      "Failure Friends - 4x22 - The One With The Worst Best Man Ever.en.sub\n",
      "Failure Friends - 4x12 - The One With The Embryos.en.sub\n",
      "Failure Friends - 4x20 - The One With The Wedding Dresses.en.sub\n",
      "Failure Friends - 4x19 - The One With All The Haste.en.sub\n",
      "Failure Friends - 4x17 - The One With The Free Porn.en.sub\n",
      "Failure Friends - 4x05 - The One With Joey's New Girlfriend.en.sub\n",
      "Failure Friends - 4x11 - The One With Phoebe's Uterus.en.sub\n",
      "Failure Friends - 4x21 - The One With The Invitations.en.sub\n",
      "Failure Friends - 5x03 - The One Hundredth.en.sub\n",
      "Failure Friends - 5x04 - The One Where Phoebe Hates PBS.en.sub\n",
      "Failure Friends - 5x12 - The One With Chandler's Work Laugh.en.sub\n",
      "Failure Friends - 5x15 - The One With The Girl Who Hits Joey.en.sub\n",
      "Failure Friends - 5x23 - The One In Vegas (1).en.sub\n",
      "Failure Friends - 5x01 - The One After Ross Says Rachel.en.sub\n",
      "Failure Friends - 5x02 - The One With All The Kissing.en.sub\n",
      "Failure Friends - 5x21 - The One With The Ball.en.sub\n",
      "Failure Friends - 5x19 - The One Where Ross Can't Flirt.en.sub\n",
      "Failure Friends - 5x05 - The One With The Kips.en.sub\n",
      "Failure Friends - 5x09 - The One With Ross's Sandwich.en.sub\n",
      "Failure Friends - 5x20 - The One With The Ride Along.en.sub\n",
      "Failure Friends - 5x06 - The One With The Yeti.en.sub\n",
      "Failure Friends - 5x18 - The One Where Rachel Smokes.en.sub\n",
      "Failure Friends - 5x11 - The One With All The Resolutions.en.sub\n",
      "Failure Friends - 5x10 - The One With The Inappropriate Sister.en.sub\n",
      "Failure Friends - 5x22 - The One With Joey's Big Break.en.sub\n",
      "Failure Friends - 5x08 - The One With The Thanksgiving Flashbacks.en.sub\n",
      "Failure Friends - 5x07 - The One Where Ross Moves In.en.sub\n",
      "Failure Friends - 5x17 - The One With Rachel's Inadvertent Kiss.en.sub\n",
      "Failure Friends - 5x13 - The One With Joey's Bag.en.sub\n",
      "Failure Friends - 5x14 - The One Where Everybody Finds Out.en.sub\n",
      "Failure Friends - 5x16 - The One With The Cop.en.sub\n",
      "Success Friends - 6x07 - The One Where Phoebe Runs.en.srt\n",
      "Success Friends - 6x04 - The One Where Joey Loses His Insurance.en.srt\n",
      "Success Friends - 6x12 - The One With The Joke.en.srt\n",
      "Failure Friends - 6x24 - The One With The Proposal (1).en.srt\n",
      "Success Friends - 6x13 - The One With Rachel's Sister (1).en.srt\n",
      "Success Friends - 6x22 - The One Where Paul's The Man.en.srt\n",
      "Success Friends - 6x03 - The One With Ross's Denial.en.srt\n",
      "Failure Friends - 6x15 - The One That Could Have Been (1).en.srt\n",
      "Failure Friends - 6x23 - The One With The Ring.en.srt\n",
      "Success Friends - 6x18 - The One Where Ross Dates A Student.en.srt\n",
      "Success Friends - 6x06 - The One On The Last Night.en.srt\n",
      "Success Friends - 6x19 - The One With Joey's Fridge.en.srt\n",
      "Success Friends - 6x02 - The One Where Ross Hugs Rachel.en.srt\n",
      "Failure Friends - 6x09 - The One Where Ross Got High.en.srt\n",
      "Success Friends - 6x11 - The One With The Apothecary Table.en.srt\n",
      "Success Friends - 6x16 - The One That Could Have Been (2).en.srt\n",
      "Success Friends - 6x21 - The One Where Ross Meets Elizabeth's Dad.en.srt\n",
      "Success Friends - 6x05 - The One With Joey's Porsche.en.srt\n",
      "Success Friends - 6x25 - The One With The Proposal (2).en.srt\n",
      "Success Friends - 6x01 - The One After Vegas.en.srt\n",
      "Success Friends - 6x10 - The One With The Routine.en.srt\n",
      "Success Friends - 6x20 - The One With Mac And C.H.E.E.S.E..en.srt\n",
      "Failure Friends - 6x17 - The One With Unagi.en.srt\n",
      "Success Friends - 6x14 - The One Where Chandler Can't Cry (2).en.srt\n",
      "Success Friends - 6x08 - The One With Ross's Teeth.en.srt\n",
      "Failure Friends - 7x05 - The One With The Engagement Picture.en.srt\n",
      "Success Friends - 7x07 - The One With Ross's Library Book.en.srt\n",
      "Success Friends - 7x02 - The One With Rachel's Book.en.srt\n",
      "Success Friends - 7x18 - The One With Joey's Award.en.srt\n",
      "Success Friends - 7x14 - The One Where They All Turn Thirty.en.srt\n",
      "Success Friends - 7x15 - The One With Joey's New Brain.en.srt\n",
      "Success Friends - 7x24 - The One With Chandler And Monica's Wedding (2).en.srt\n",
      "Failure Friends - 7x19 - The One With Ross And Monica's Cousin.en.srt\n",
      "Success Friends - 7x16 - The One With The Truth About London.en.srt\n",
      "Success Friends - 7x10 - The One With The Holiday Armadillo.en.srt\n",
      "Failure Friends - 7x04 - The One With Rachel's Assistant.en.srt\n",
      "Success Friends - 7x20 - The One With Rachel's Big Kiss.en.srt\n",
      "Success Friends - 7x06 - The One With The Nap Partners.en.srt\n",
      "Success Friends - 7x21 - The One With The Vows.en.srt\n",
      "Success Friends - 7x22 - The One With Chandler's Dad.en.srt\n",
      "Success Friends - 7x12 - The One Where They're Up All Night.en.srt\n",
      "Failure Friends - 7x03 - The One With Phoebe's Cookies.en.srt\n",
      "Failure Friends - 7x11 - The One With All The Cheesecakes.en.srt\n",
      "Failure Friends - 7x01 - The One With Monica's Thunder.en.srt\n",
      "Success Friends - 7x13 - The One Where Rosita Dies.en.srt\n",
      "Failure Friends - 7x17 - The One With The Cheap Wedding Dress.en.srt\n",
      "Success Friends - 7x23 - The One With Chandler And Monica's Wedding (1).en.srt\n",
      "Success Friends - 7x08 - The One Where Chandler Doesn't Like Dogs.en.srt\n",
      "Success Friends - 7x09 - The One With All The Candy.en.srt\n",
      "Failure Friends - 8x05 - The One With Rachel's Date.en.sub\n",
      "Failure Friends - 8x18 - The One In Massapequa.en.sub\n",
      "Failure Friends - 8x03 - The One Where Rachel Tells....en.sub\n",
      "Failure Friends - 8x20 - The One With The Baby Shower.en.sub\n",
      "Failure Friends - 8x10 - The One With Monica's Boots.en.sub\n",
      "Failure Friends - 8x12 - The One Where Joey Dates Rachel.en.sub\n",
      "Failure Friends - 8x11 - The One With The Creepy Holiday Card.en.sub\n",
      "Failure Friends - 8x06 - The One With The Halloween Party.en.sub\n",
      "Failure Friends - 8x16 - The One Where Joey Tells Rachel.en.sub\n",
      "Failure Friends - 8x24 - The One Where Rachel Has A Baby (2).en.sub\n",
      "Failure Friends - 8x23 - The One Where Rachel Has A Baby (1).en.sub\n",
      "Failure Friends - 8x22 - The One Where Rachel Is Late.en.sub\n",
      "Failure Friends - 8x08 - The One With The Stripper.en.sub\n",
      "Failure Friends - 8x14 - The One With The Secret Closet.en.sub\n",
      "Failure Friends - 8x07 - The One With The Stain.en.sub\n",
      "Failure Friends - 8x13 - The One Where Chandler Takes A Bath.en.sub\n",
      "Failure Friends - 8x09 - The One With The Rumor.en.sub\n",
      "Failure Friends - 8x15 - The One With The Birthing Video.en.sub\n",
      "Failure Friends - 8x19 - The One With Joey's Interview.en.sub\n",
      "Failure Friends - 8x04 - The One With The Videotape.en.sub\n",
      "Success Friends - 8x17 - The One With The Tea Leaves.en.srt\n",
      "Failure Friends - 8x02 - The One With The Red Sweater.en.sub\n",
      "Failure Friends - 9x19 - The One With Rachel's Dream.en.sub\n",
      "Failure Friends - 9x02 - The One Where Emma Cries.en.sub\n",
      "Failure Friends - 9x20 - The One With The Soap Opera Party.en.sub\n",
      "Failure Friends - 9x03 - The One With The Pediatrician.en.sub\n",
      "Failure Friends - 9x17 - The One With The Memorial Service.en.sub\n",
      "Failure Friends - 9x22 - The One With The Donor.en.sub\n",
      "Failure Friends - 9x09 - The One With Rachel's Phone Number.en.sub\n",
      "Failure Friends - 9x14 - The One With The Blind Dates.en.sub\n",
      "Failure Friends - 9x07 - The One With Ross's Inappropriate Song.en.sub\n",
      "Failure Friends - 9x16 - The One With The Boob Job.en.sub\n",
      "Failure Friends - 9x11 - The One Where Rachel Goes Back To Work.en.sub\n",
      "Failure Friends - 9x23 - The One In Barbados (1).en.sub\n",
      "Failure Friends - 9x08 - The One With Rachel's Other Sister.en.sub\n",
      "Failure Friends - 9x01 - The One Where No One Proposes.en.sub\n",
      "Failure Friends - 9x15 - The One With The Mugging.en.sub\n",
      "Failure Friends - 9x18 - The One With The Lottery.en.sub\n",
      "Failure Friends - 9x12 - The One With Phoebe's Rats.en.sub\n",
      "Failure Friends - 9x21 - The One With The Fertility Test.en.sub\n",
      "Failure Friends - 9x10 - The One With Christmas In Tulsa.en.sub\n",
      "Failure Friends - 9x05 - The One With Phoebe's Birthday Dinner.en.sub\n",
      "Failure Friends - 9x04 - The One With The Sharks.en.sub\n",
      "Failure Friends - 9x13 - The One Where Monica Sings.en.sub\n",
      "Failure Friends - 9x06 - The One With The Male Nanny.en.sub\n",
      "Success Friends - 10x02 - The One Where Ross Is Fine.en.srt\n",
      "Failure Friends - 10x11 - The One Where The Stripper Cries.en.srt\n",
      "Success Friends - 10x07 - The One With The Home Study.en.srt\n",
      "Failure Friends - 10x17 - The Last One (1).en.srt\n",
      "Success Friends - 10x16 - The One With Rachel's Going Away Party.en.srt\n",
      "Success Friends - 10x10 - The One Where Chandler Gets Caught.en.srt\n",
      "Success Friends - 10x06 - The One With Ross's Grant.en.srt\n",
      "Failure Friends - 10x13 - The One Where Joey Speaks French.en.srt\n",
      "Success Friends - 10x03 - The One With Ross's Tan.en.srt\n",
      "Success Friends - 10x04 - The One With The Cake.en.srt\n",
      "Success Friends - 10x09 - The One With The Birth Mother.en.srt\n",
      "Failure Friends - 10x12 - The One With Phoebe's Wedding.en.srt\n",
      "Success Friends - 10x01 - The One After Joey And Rachel Kiss.en.srt\n",
      "Failure Friends - 10x15 - The One Where Estelle Dies.en.srt\n",
      "Success Friends - 10x08 - The One With The Late Thanksgiving.en.srt\n",
      "Success Friends - 10x05 - The One Where Rachel's Sister Babysits.en.srt\n"
     ]
    }
   ],
   "source": [
    "import os\n",
    "import pandas as pd\n",
    "\n",
    "temp_path = './curr.csv'\n",
    "df = pd.DataFrame(columns=['text'])\n",
    "\n",
    "for i in range(1, 11):\n",
    "    path = 'rubbish_orig/walking_dead/' + str(i) + '/'\n",
    "    for file in os.listdir(path):\n",
    "        try:\n",
    "            sub_format = file[-3:]\n",
    "            if sub_format not in ['srt', 'sub']:\n",
    "                continue\n",
    "\n",
    "            extract_subtitles(path + file, temp_path)\n",
    "\n",
    "            curr_df = pd.read_csv(temp_path, usecols=['text'])\n",
    "            df = pd.concat((df, curr_df), ignore_index=True)\n",
    "            print('Success', file)\n",
    "        except:\n",
    "            print('Failure', file)\n",
    "            continue\n",
    "        \n",
    "df.to_csv('rubbish/walking_dead.csv', index=False)\n",
    "os.remove('./curr.csv')"
   ]
  },
  {
   "cell_type": "markdown",
   "id": "ed97b59d-a7a1-44c7-8330-62a97635772e",
   "metadata": {},
   "source": [
    "fig_qa"
   ]
  },
  {
   "cell_type": "code",
   "execution_count": 54,
   "id": "95556284-8ffa-40eb-8a2b-64285c5d58fb",
   "metadata": {
    "tags": []
   },
   "outputs": [
    {
     "data": {
      "text/plain": [
       "(9106, 2)"
      ]
     },
     "execution_count": 54,
     "metadata": {},
     "output_type": "execute_result"
    }
   ],
   "source": [
    "import numpy as np\n",
    "\n",
    "train_xl = pd.read_csv('raw/fig_qa/train_xl.csv')\n",
    "valid = pd.read_csv('raw/fig_qa/dev.csv')\n",
    "\n",
    "final = pd.concat((train_xl, valid), axis=0, ignore_index=True)\n",
    "final['correct_ending'] = np.where(final['labels'], final['ending2'], final['ending1'])\n",
    "final = final.drop(['ending2', 'ending1', 'labels', 'valid'], axis=1)\n",
    "final = final.drop_duplicates()\n",
    "final.shape"
   ]
  },
  {
   "cell_type": "code",
   "execution_count": 55,
   "id": "1a5360f7-9bea-4bbf-8db4-8dbbb20eea4a",
   "metadata": {},
   "outputs": [],
   "source": [
    "startphrase = pd.DataFrame(final.rename(columns={'startphrase': 'text'})['text'])\n",
    "startphrase.to_csv('data/fig_qa_start.csv', index=False)\n",
    "\n",
    "correct_ending = pd.DataFrame(final.rename(columns={'correct_ending': 'text'})['text'])\n",
    "correct_ending.to_csv('data/fig_qa_end.csv', index=False)"
   ]
  },
  {
   "cell_type": "code",
   "execution_count": 31,
   "id": "7f2b3e59-df2a-466e-a379-ce366403525e",
   "metadata": {},
   "outputs": [
    {
     "data": {
      "text/html": [
       "<div>\n",
       "<style scoped>\n",
       "    .dataframe tbody tr th:only-of-type {\n",
       "        vertical-align: middle;\n",
       "    }\n",
       "\n",
       "    .dataframe tbody tr th {\n",
       "        vertical-align: top;\n",
       "    }\n",
       "\n",
       "    .dataframe thead th {\n",
       "        text-align: right;\n",
       "    }\n",
       "</style>\n",
       "<table border=\"1\" class=\"dataframe\">\n",
       "  <thead>\n",
       "    <tr style=\"text-align: right;\">\n",
       "      <th></th>\n",
       "      <th>text</th>\n",
       "    </tr>\n",
       "  </thead>\n",
       "  <tbody>\n",
       "    <tr>\n",
       "      <th>0</th>\n",
       "      <td>Her promises can be believed.</td>\n",
       "    </tr>\n",
       "    <tr>\n",
       "      <th>1</th>\n",
       "      <td>Her promises cannot be trusted.</td>\n",
       "    </tr>\n",
       "    <tr>\n",
       "      <th>2</th>\n",
       "      <td>His kisses are demonstrative and intense.</td>\n",
       "    </tr>\n",
       "    <tr>\n",
       "      <th>3</th>\n",
       "      <td>His kiss is unemotional.</td>\n",
       "    </tr>\n",
       "    <tr>\n",
       "      <th>4</th>\n",
       "      <td>It's very cold</td>\n",
       "    </tr>\n",
       "    <tr>\n",
       "      <th>...</th>\n",
       "      <td>...</td>\n",
       "    </tr>\n",
       "    <tr>\n",
       "      <th>9105</th>\n",
       "      <td>Emails are fast.</td>\n",
       "    </tr>\n",
       "    <tr>\n",
       "      <th>9106</th>\n",
       "      <td>The dinner was very dry and tasteless.</td>\n",
       "    </tr>\n",
       "    <tr>\n",
       "      <th>9107</th>\n",
       "      <td>The dinner was award winning.</td>\n",
       "    </tr>\n",
       "    <tr>\n",
       "      <th>9108</th>\n",
       "      <td>The explanation was easy and simple to understand</td>\n",
       "    </tr>\n",
       "    <tr>\n",
       "      <th>9109</th>\n",
       "      <td>The explanation made to sense.</td>\n",
       "    </tr>\n",
       "  </tbody>\n",
       "</table>\n",
       "<p>9106 rows × 1 columns</p>\n",
       "</div>"
      ],
      "text/plain": [
       "                                                   text\n",
       "0                         Her promises can be believed.\n",
       "1                       Her promises cannot be trusted.\n",
       "2             His kisses are demonstrative and intense.\n",
       "3                              His kiss is unemotional.\n",
       "4                                        It's very cold\n",
       "...                                                 ...\n",
       "9105                                   Emails are fast.\n",
       "9106             The dinner was very dry and tasteless.\n",
       "9107                      The dinner was award winning.\n",
       "9108  The explanation was easy and simple to understand\n",
       "9109                     The explanation made to sense.\n",
       "\n",
       "[9106 rows x 1 columns]"
      ]
     },
     "execution_count": 31,
     "metadata": {},
     "output_type": "execute_result"
    }
   ],
   "source": [
    "correct_ending"
   ]
  },
  {
   "cell_type": "markdown",
   "id": "31e2db5d-90b5-4af5-90c5-0243837793b1",
   "metadata": {},
   "source": [
    "irony"
   ]
  },
  {
   "cell_type": "markdown",
   "id": "fbf5d3ee-c766-47f1-bcb5-b9bb1f672f5a",
   "metadata": {},
   "source": [
    "В строках 1645, 3028, 3458 были удалены вручную одинарные кавычки (\"); все 3 примера неироничные."
   ]
  },
  {
   "cell_type": "code",
   "execution_count": 100,
   "id": "c5f9985f-0844-48ba-b647-d100c313dd6b",
   "metadata": {},
   "outputs": [
    {
     "data": {
      "text/html": [
       "<div>\n",
       "<style scoped>\n",
       "    .dataframe tbody tr th:only-of-type {\n",
       "        vertical-align: middle;\n",
       "    }\n",
       "\n",
       "    .dataframe tbody tr th {\n",
       "        vertical-align: top;\n",
       "    }\n",
       "\n",
       "    .dataframe thead th {\n",
       "        text-align: right;\n",
       "    }\n",
       "</style>\n",
       "<table border=\"1\" class=\"dataframe\">\n",
       "  <thead>\n",
       "    <tr style=\"text-align: right;\">\n",
       "      <th></th>\n",
       "      <th>text</th>\n",
       "    </tr>\n",
       "  </thead>\n",
       "  <tbody>\n",
       "    <tr>\n",
       "      <th>0</th>\n",
       "      <td>Sweet United Nations video. Just in time for C...</td>\n",
       "    </tr>\n",
       "    <tr>\n",
       "      <th>1</th>\n",
       "      <td>@mrdahl87 We are rumored to have talked to Erv...</td>\n",
       "    </tr>\n",
       "    <tr>\n",
       "      <th>2</th>\n",
       "      <td>Hey there! Nice to see you Minnesota/ND Winter...</td>\n",
       "    </tr>\n",
       "    <tr>\n",
       "      <th>3</th>\n",
       "      <td>I can't breathe! was chosen as the most notabl...</td>\n",
       "    </tr>\n",
       "    <tr>\n",
       "      <th>4</th>\n",
       "      <td>Nothing makes me happier then getting on the h...</td>\n",
       "    </tr>\n",
       "    <tr>\n",
       "      <th>...</th>\n",
       "      <td>...</td>\n",
       "    </tr>\n",
       "    <tr>\n",
       "      <th>1906</th>\n",
       "      <td>Someone I work w doesn't let his kids believe ...</td>\n",
       "    </tr>\n",
       "    <tr>\n",
       "      <th>1907</th>\n",
       "      <td>Obama whisked away to hospital, diagnosed with...</td>\n",
       "    </tr>\n",
       "    <tr>\n",
       "      <th>1908</th>\n",
       "      <td>Thanks for shutting the city down..</td>\n",
       "    </tr>\n",
       "    <tr>\n",
       "      <th>1909</th>\n",
       "      <td>@flippysgardenia IKR?! don't you see? he's gon...</td>\n",
       "    </tr>\n",
       "    <tr>\n",
       "      <th>1910</th>\n",
       "      <td>Glad there's not a typhoon where we go on holi...</td>\n",
       "    </tr>\n",
       "  </tbody>\n",
       "</table>\n",
       "<p>1911 rows × 1 columns</p>\n",
       "</div>"
      ],
      "text/plain": [
       "                                                   text\n",
       "0     Sweet United Nations video. Just in time for C...\n",
       "1     @mrdahl87 We are rumored to have talked to Erv...\n",
       "2     Hey there! Nice to see you Minnesota/ND Winter...\n",
       "3     I can't breathe! was chosen as the most notabl...\n",
       "4     Nothing makes me happier then getting on the h...\n",
       "...                                                 ...\n",
       "1906  Someone I work w doesn't let his kids believe ...\n",
       "1907  Obama whisked away to hospital, diagnosed with...\n",
       "1908               Thanks for shutting the city down.. \n",
       "1909  @flippysgardenia IKR?! don't you see? he's gon...\n",
       "1910  Glad there's not a typhoon where we go on holi...\n",
       "\n",
       "[1911 rows x 1 columns]"
      ]
     },
     "execution_count": 100,
     "metadata": {},
     "output_type": "execute_result"
    }
   ],
   "source": [
    "irony = pd.read_csv('irony/irony.txt', sep='\\t')\n",
    "final = pd.DataFrame(irony[irony['Label'] == 1]['Tweet text'].reset_index(drop=True))\n",
    "final = final.rename(columns={'Tweet text': 'text'})\n",
    "final"
   ]
  },
  {
   "cell_type": "code",
   "execution_count": 101,
   "id": "d452bd86-3ed7-4740-8213-e2dcc30d712c",
   "metadata": {},
   "outputs": [],
   "source": [
    "final.to_csv('irony/irony.csv', index=False)"
   ]
  },
  {
   "cell_type": "code",
   "execution_count": 12,
   "id": "608b49de-d192-440f-834f-39405395ea45",
   "metadata": {},
   "outputs": [
    {
     "name": "stdout",
     "output_type": "stream",
     "text": [
      "0 2\n",
      "6 8\n"
     ]
    }
   ],
   "source": [
    "import re\n",
    "\n",
    "speech = re.compile('ab')\n",
    "dialogues = speech.finditer('abcdefabcd')\n",
    "\n",
    "for curr in dialogues:\n",
    "    print(curr.start(), curr.end())"
   ]
  },
  {
   "cell_type": "code",
   "execution_count": 1,
   "id": "6e338788-0f6d-4d72-853d-cf27be1bc71e",
   "metadata": {},
   "outputs": [],
   "source": [
    "emotions = ['neutral', 'joy', 'surprise', 'anger', 'sadness', 'disgust', 'fear']"
   ]
  },
  {
   "cell_type": "code",
   "execution_count": 2,
   "id": "76315694-2274-4ddf-9a47-ccd94e1a84d8",
   "metadata": {},
   "outputs": [
    {
     "name": "stdout",
     "output_type": "stream",
     "text": [
      "['MELD_neutral', 'MELD_joy', 'MELD_surprise', 'MELD_anger', 'MELD_sadness', 'MELD_disgust', 'MELD_fear']\n"
     ]
    }
   ],
   "source": [
    "t = []\n",
    "for i in emotions:\n",
    "    t.append(f'MELD_{i}')\n",
    "print(t)"
   ]
  },
  {
   "cell_type": "code",
   "execution_count": null,
   "id": "ef39e17e-2dcf-4980-a203-abedd36b0555",
   "metadata": {},
   "outputs": [],
   "source": []
  }
 ],
 "metadata": {
  "kernelspec": {
   "display_name": "Python 3 (ipykernel)",
   "language": "python",
   "name": "python3"
  },
  "language_info": {
   "codemirror_mode": {
    "name": "ipython",
    "version": 3
   },
   "file_extension": ".py",
   "mimetype": "text/x-python",
   "name": "python",
   "nbconvert_exporter": "python",
   "pygments_lexer": "ipython3",
   "version": "3.11.5"
  }
 },
 "nbformat": 4,
 "nbformat_minor": 5
}
