{
 "cells": [
  {
   "cell_type": "code",
   "execution_count": null,
   "id": "e7c82c91-718d-4b61-9477-d106ec55f464",
   "metadata": {},
   "outputs": [],
   "source": [
    "# download and preprocess data\n",
    "# put the final results to the data directory\n",
    "# load it to server and run as in task 3.3-4"
   ]
  },
  {
   "cell_type": "markdown",
   "id": "f21dc6a3-4b0b-44e6-9d01-f4f80276cd01",
   "metadata": {},
   "source": [
    "## SODA"
   ]
  },
  {
   "cell_type": "code",
   "execution_count": 1,
   "id": "0ef6d0b0-b253-4a56-be5a-e852572586bf",
   "metadata": {},
   "outputs": [
    {
     "data": {
      "application/vnd.jupyter.widget-view+json": {
       "model_id": "d5614f17f8aa42a08e13f0e34b95dc65",
       "version_major": 2,
       "version_minor": 0
      },
      "text/plain": [
       "Downloading readme:   0%|          | 0.00/4.92k [00:00<?, ?B/s]"
      ]
     },
     "metadata": {},
     "output_type": "display_data"
    },
    {
     "name": "stderr",
     "output_type": "stream",
     "text": [
      "Using custom data configuration allenai--soda-354e990899ae2f4a\n"
     ]
    },
    {
     "name": "stdout",
     "output_type": "stream",
     "text": [
      "Downloading and preparing dataset parquet/allenai--soda to /Users/vladimirknazevskij/.cache/huggingface/datasets/allenai___parquet/allenai--soda-354e990899ae2f4a/0.0.0/2a3b91fbd88a2c90d1dbbb32b460cf621d31bd5b05b934492fdef7d8d6f236ec...\n"
     ]
    },
    {
     "data": {
      "application/vnd.jupyter.widget-view+json": {
       "model_id": "dc39f8d8360e4b48810f49bbfb979274",
       "version_major": 2,
       "version_minor": 0
      },
      "text/plain": [
       "Downloading data files:   0%|          | 0/3 [00:00<?, ?it/s]"
      ]
     },
     "metadata": {},
     "output_type": "display_data"
    },
    {
     "data": {
      "application/vnd.jupyter.widget-view+json": {
       "model_id": "91c411711a244bef96c60e256749fddc",
       "version_major": 2,
       "version_minor": 0
      },
      "text/plain": [
       "Downloading data:   0%|          | 0.00/689M [00:00<?, ?B/s]"
      ]
     },
     "metadata": {},
     "output_type": "display_data"
    },
    {
     "data": {
      "application/vnd.jupyter.widget-view+json": {
       "model_id": "8fe900f00bae440193c4d3399ff3573e",
       "version_major": 2,
       "version_minor": 0
      },
      "text/plain": [
       "Downloading data:   0%|          | 0.00/84.2M [00:00<?, ?B/s]"
      ]
     },
     "metadata": {},
     "output_type": "display_data"
    },
    {
     "data": {
      "application/vnd.jupyter.widget-view+json": {
       "model_id": "a9ce0d7ee2c74bac87cc754155667bc7",
       "version_major": 2,
       "version_minor": 0
      },
      "text/plain": [
       "Downloading data:   0%|          | 0.00/82.9M [00:00<?, ?B/s]"
      ]
     },
     "metadata": {},
     "output_type": "display_data"
    },
    {
     "data": {
      "application/vnd.jupyter.widget-view+json": {
       "model_id": "afef3a30ead34b8e8e64cddff4204297",
       "version_major": 2,
       "version_minor": 0
      },
      "text/plain": [
       "Extracting data files:   0%|          | 0/3 [00:00<?, ?it/s]"
      ]
     },
     "metadata": {},
     "output_type": "display_data"
    },
    {
     "data": {
      "application/vnd.jupyter.widget-view+json": {
       "model_id": "",
       "version_major": 2,
       "version_minor": 0
      },
      "text/plain": [
       "Generating train split: 0 examples [00:00, ? examples/s]"
      ]
     },
     "metadata": {},
     "output_type": "display_data"
    },
    {
     "data": {
      "application/vnd.jupyter.widget-view+json": {
       "model_id": "",
       "version_major": 2,
       "version_minor": 0
      },
      "text/plain": [
       "Generating test split: 0 examples [00:00, ? examples/s]"
      ]
     },
     "metadata": {},
     "output_type": "display_data"
    },
    {
     "data": {
      "application/vnd.jupyter.widget-view+json": {
       "model_id": "",
       "version_major": 2,
       "version_minor": 0
      },
      "text/plain": [
       "Generating validation split: 0 examples [00:00, ? examples/s]"
      ]
     },
     "metadata": {},
     "output_type": "display_data"
    },
    {
     "name": "stdout",
     "output_type": "stream",
     "text": [
      "Dataset parquet downloaded and prepared to /Users/vladimirknazevskij/.cache/huggingface/datasets/allenai___parquet/allenai--soda-354e990899ae2f4a/0.0.0/2a3b91fbd88a2c90d1dbbb32b460cf621d31bd5b05b934492fdef7d8d6f236ec. Subsequent calls will reuse this data.\n"
     ]
    }
   ],
   "source": [
    "from datasets import load_dataset\n",
    "\n",
    "dataset = load_dataset(\"allenai/soda\", split='test')"
   ]
  },
  {
   "cell_type": "code",
   "execution_count": 4,
   "id": "483c9b05-25e1-407e-9ebf-5f68d4f9f230",
   "metadata": {},
   "outputs": [],
   "source": [
    "dialogues = dataset['dialogue']"
   ]
  },
  {
   "cell_type": "code",
   "execution_count": 18,
   "id": "3c92a865-74f0-453d-ab3e-1be382ff4f60",
   "metadata": {},
   "outputs": [],
   "source": [
    "import numpy as np\n",
    "\n",
    "chosen_idx = np.random.choice(len(dialogues), size=10 ** 4, replace=False)"
   ]
  },
  {
   "cell_type": "code",
   "execution_count": 23,
   "id": "0c316581-dd16-4472-8193-ce1ec774b128",
   "metadata": {},
   "outputs": [],
   "source": [
    "chosen_dialogue = []\n",
    "for idx in chosen_idx:\n",
    "    dialogue = dialogues[idx]\n",
    "    start = np.random.choice(len(dialogue) - 1)\n",
    "    end = start + 1\n",
    "    chosen_dialogue.append(f'\\\"{dialogue[start]}\\\"\\n\\\"{dialogue[end]}\\\"')\n",
    "    "
   ]
  },
  {
   "cell_type": "code",
   "execution_count": 26,
   "id": "ea7c6303-2faf-4f9e-aba5-2b5f0bdd1bc1",
   "metadata": {},
   "outputs": [],
   "source": [
    "import pandas as pd\n",
    "\n",
    "df = pd.DataFrame(chosen_dialogue, columns=['text'])"
   ]
  },
  {
   "cell_type": "code",
   "execution_count": 28,
   "id": "48a0c58c-bf96-4172-a51b-a4745f02396a",
   "metadata": {},
   "outputs": [],
   "source": [
    "df.to_csv('data/soda.csv', index=False)"
   ]
  },
  {
   "cell_type": "code",
   "execution_count": 29,
   "id": "92f26c6d-71ee-4de2-8710-7fd4ddda43ff",
   "metadata": {},
   "outputs": [
    {
     "name": "stdout",
     "output_type": "stream",
     "text": [
      "/Users/vladimirknazevskij/Jupyter/Humor/unlabeled\n"
     ]
    }
   ],
   "source": [
    "! pwd"
   ]
  },
  {
   "cell_type": "markdown",
   "id": "2b66b06f-725c-4bcd-b616-82405dd65dcb",
   "metadata": {},
   "source": [
    "## MELD"
   ]
  },
  {
   "cell_type": "code",
   "execution_count": 1,
   "id": "edf1cb47-f014-45b5-88de-465bcc588a59",
   "metadata": {},
   "outputs": [
    {
     "name": "stdout",
     "output_type": "stream",
     "text": [
      "URL transformed to HTTPS due to an HSTS policy\n",
      "--2024-05-13 23:35:30--  https://web.eecs.umich.edu/~mihalcea/downloads/MELD.Raw.tar.gz\n",
      "Resolving web.eecs.umich.edu (web.eecs.umich.edu)... 141.212.113.214\n",
      "Connecting to web.eecs.umich.edu (web.eecs.umich.edu)|141.212.113.214|:443... connected.\n",
      "HTTP request sent, awaiting response... 200 OK\n",
      "Length: 10878146150 (10G) [application/x-gzip]\n",
      "Saving to: ‘MELD.Raw.tar.gz’\n",
      "\n",
      "MELD.Raw.tar.gz     100%[===================>]  10,13G  9,63MB/s    in 31m 27s \n",
      "\n",
      "2024-05-14 00:06:59 (5,50 MB/s) - ‘MELD.Raw.tar.gz’ saved [10878146150/10878146150]\n",
      "\n"
     ]
    }
   ],
   "source": [
    "! wget http://web.eecs.umich.edu/~mihalcea/downloads/MELD.Raw.tar.gz"
   ]
  },
  {
   "cell_type": "code",
   "execution_count": 3,
   "id": "daaa451d-9d4a-4602-a3e3-59f8d0652a31",
   "metadata": {},
   "outputs": [
    {
     "name": "stdout",
     "output_type": "stream",
     "text": [
      "x MELD.Raw/\n",
      "x MELD.Raw/train.tar.gz\n",
      "x MELD.Raw/dev.tar.gz\n",
      "x MELD.Raw/test_sent_emo.csv\n",
      "x MELD.Raw/._train_splits\n",
      "x MELD.Raw/dev_sent_emo.csv\n",
      "x MELD.Raw/README.txt\n",
      "x MELD.Raw/test.tar.gz\n"
     ]
    }
   ],
   "source": [
    "! tar -xvzf MELD.Raw.tar.gz"
   ]
  },
  {
   "cell_type": "code",
   "execution_count": 5,
   "id": "e8efab4f-c670-49d7-8673-70f347cb8073",
   "metadata": {},
   "outputs": [],
   "source": [
    "import pandas as pd\n",
    "\n",
    "train = pd.read_csv('MELD.Raw/train_sent_emo.csv')\n",
    "valid = pd.read_csv('MELD.Raw/train_sent_emo.csv')\n",
    "test = pd.read_csv('MELD.Raw/train_sent_emo.csv')\n",
    "\n",
    "final = pd.concat((train, valid, test), axis=0, ignore_index=True)"
   ]
  },
  {
   "cell_type": "code",
   "execution_count": 6,
   "id": "53c832e5-8304-4a2b-9ea2-43f043dd208f",
   "metadata": {},
   "outputs": [
    {
     "data": {
      "text/html": [
       "<div>\n",
       "<style scoped>\n",
       "    .dataframe tbody tr th:only-of-type {\n",
       "        vertical-align: middle;\n",
       "    }\n",
       "\n",
       "    .dataframe tbody tr th {\n",
       "        vertical-align: top;\n",
       "    }\n",
       "\n",
       "    .dataframe thead th {\n",
       "        text-align: right;\n",
       "    }\n",
       "</style>\n",
       "<table border=\"1\" class=\"dataframe\">\n",
       "  <thead>\n",
       "    <tr style=\"text-align: right;\">\n",
       "      <th></th>\n",
       "      <th>Sr No.</th>\n",
       "      <th>Utterance</th>\n",
       "      <th>Speaker</th>\n",
       "      <th>Emotion</th>\n",
       "      <th>Sentiment</th>\n",
       "      <th>Dialogue_ID</th>\n",
       "      <th>Utterance_ID</th>\n",
       "      <th>Season</th>\n",
       "      <th>Episode</th>\n",
       "      <th>StartTime</th>\n",
       "      <th>EndTime</th>\n",
       "    </tr>\n",
       "  </thead>\n",
       "  <tbody>\n",
       "    <tr>\n",
       "      <th>0</th>\n",
       "      <td>1</td>\n",
       "      <td>also I was the point person on my companys tr...</td>\n",
       "      <td>Chandler</td>\n",
       "      <td>neutral</td>\n",
       "      <td>neutral</td>\n",
       "      <td>0</td>\n",
       "      <td>0</td>\n",
       "      <td>8</td>\n",
       "      <td>21</td>\n",
       "      <td>00:16:16,059</td>\n",
       "      <td>00:16:21,731</td>\n",
       "    </tr>\n",
       "    <tr>\n",
       "      <th>1</th>\n",
       "      <td>2</td>\n",
       "      <td>You mustve had your hands full.</td>\n",
       "      <td>The Interviewer</td>\n",
       "      <td>neutral</td>\n",
       "      <td>neutral</td>\n",
       "      <td>0</td>\n",
       "      <td>1</td>\n",
       "      <td>8</td>\n",
       "      <td>21</td>\n",
       "      <td>00:16:21,940</td>\n",
       "      <td>00:16:23,442</td>\n",
       "    </tr>\n",
       "    <tr>\n",
       "      <th>2</th>\n",
       "      <td>3</td>\n",
       "      <td>That I did. That I did.</td>\n",
       "      <td>Chandler</td>\n",
       "      <td>neutral</td>\n",
       "      <td>neutral</td>\n",
       "      <td>0</td>\n",
       "      <td>2</td>\n",
       "      <td>8</td>\n",
       "      <td>21</td>\n",
       "      <td>00:16:23,442</td>\n",
       "      <td>00:16:26,389</td>\n",
       "    </tr>\n",
       "    <tr>\n",
       "      <th>3</th>\n",
       "      <td>4</td>\n",
       "      <td>So lets talk a little bit about your duties.</td>\n",
       "      <td>The Interviewer</td>\n",
       "      <td>neutral</td>\n",
       "      <td>neutral</td>\n",
       "      <td>0</td>\n",
       "      <td>3</td>\n",
       "      <td>8</td>\n",
       "      <td>21</td>\n",
       "      <td>00:16:26,820</td>\n",
       "      <td>00:16:29,572</td>\n",
       "    </tr>\n",
       "    <tr>\n",
       "      <th>4</th>\n",
       "      <td>5</td>\n",
       "      <td>My duties?  All right.</td>\n",
       "      <td>Chandler</td>\n",
       "      <td>surprise</td>\n",
       "      <td>positive</td>\n",
       "      <td>0</td>\n",
       "      <td>4</td>\n",
       "      <td>8</td>\n",
       "      <td>21</td>\n",
       "      <td>00:16:34,452</td>\n",
       "      <td>00:16:40,917</td>\n",
       "    </tr>\n",
       "    <tr>\n",
       "      <th>...</th>\n",
       "      <td>...</td>\n",
       "      <td>...</td>\n",
       "      <td>...</td>\n",
       "      <td>...</td>\n",
       "      <td>...</td>\n",
       "      <td>...</td>\n",
       "      <td>...</td>\n",
       "      <td>...</td>\n",
       "      <td>...</td>\n",
       "      <td>...</td>\n",
       "      <td>...</td>\n",
       "    </tr>\n",
       "    <tr>\n",
       "      <th>29962</th>\n",
       "      <td>10474</td>\n",
       "      <td>You or me?</td>\n",
       "      <td>Chandler</td>\n",
       "      <td>neutral</td>\n",
       "      <td>neutral</td>\n",
       "      <td>1038</td>\n",
       "      <td>13</td>\n",
       "      <td>2</td>\n",
       "      <td>3</td>\n",
       "      <td>00:00:48,173</td>\n",
       "      <td>00:00:50,799</td>\n",
       "    </tr>\n",
       "    <tr>\n",
       "      <th>29963</th>\n",
       "      <td>10475</td>\n",
       "      <td>I got it. Uh, Joey, women don't have Adam's ap...</td>\n",
       "      <td>Ross</td>\n",
       "      <td>neutral</td>\n",
       "      <td>neutral</td>\n",
       "      <td>1038</td>\n",
       "      <td>14</td>\n",
       "      <td>2</td>\n",
       "      <td>3</td>\n",
       "      <td>00:00:51,009</td>\n",
       "      <td>00:00:53,594</td>\n",
       "    </tr>\n",
       "    <tr>\n",
       "      <th>29964</th>\n",
       "      <td>10476</td>\n",
       "      <td>You guys are messing with me, right?</td>\n",
       "      <td>Joey</td>\n",
       "      <td>surprise</td>\n",
       "      <td>positive</td>\n",
       "      <td>1038</td>\n",
       "      <td>15</td>\n",
       "      <td>2</td>\n",
       "      <td>3</td>\n",
       "      <td>00:01:00,518</td>\n",
       "      <td>00:01:03,520</td>\n",
       "    </tr>\n",
       "    <tr>\n",
       "      <th>29965</th>\n",
       "      <td>10477</td>\n",
       "      <td>Yeah.</td>\n",
       "      <td>All</td>\n",
       "      <td>neutral</td>\n",
       "      <td>neutral</td>\n",
       "      <td>1038</td>\n",
       "      <td>16</td>\n",
       "      <td>2</td>\n",
       "      <td>3</td>\n",
       "      <td>00:01:05,398</td>\n",
       "      <td>00:01:07,274</td>\n",
       "    </tr>\n",
       "    <tr>\n",
       "      <th>29966</th>\n",
       "      <td>10478</td>\n",
       "      <td>That was a good one. For a second there, I was...</td>\n",
       "      <td>Joey</td>\n",
       "      <td>joy</td>\n",
       "      <td>positive</td>\n",
       "      <td>1038</td>\n",
       "      <td>17</td>\n",
       "      <td>2</td>\n",
       "      <td>3</td>\n",
       "      <td>00:01:08,401</td>\n",
       "      <td>00:01:12,071</td>\n",
       "    </tr>\n",
       "  </tbody>\n",
       "</table>\n",
       "<p>29967 rows × 11 columns</p>\n",
       "</div>"
      ],
      "text/plain": [
       "       Sr No.                                          Utterance  \\\n",
       "0           1  also I was the point person on my companys tr...   \n",
       "1           2                   You mustve had your hands full.   \n",
       "2           3                            That I did. That I did.   \n",
       "3           4      So lets talk a little bit about your duties.   \n",
       "4           5                             My duties?  All right.   \n",
       "...       ...                                                ...   \n",
       "29962   10474                                         You or me?   \n",
       "29963   10475  I got it. Uh, Joey, women don't have Adam's ap...   \n",
       "29964   10476               You guys are messing with me, right?   \n",
       "29965   10477                                              Yeah.   \n",
       "29966   10478  That was a good one. For a second there, I was...   \n",
       "\n",
       "               Speaker   Emotion Sentiment  Dialogue_ID  Utterance_ID  Season  \\\n",
       "0             Chandler   neutral   neutral            0             0       8   \n",
       "1      The Interviewer   neutral   neutral            0             1       8   \n",
       "2             Chandler   neutral   neutral            0             2       8   \n",
       "3      The Interviewer   neutral   neutral            0             3       8   \n",
       "4             Chandler  surprise  positive            0             4       8   \n",
       "...                ...       ...       ...          ...           ...     ...   \n",
       "29962         Chandler   neutral   neutral         1038            13       2   \n",
       "29963             Ross   neutral   neutral         1038            14       2   \n",
       "29964             Joey  surprise  positive         1038            15       2   \n",
       "29965              All   neutral   neutral         1038            16       2   \n",
       "29966             Joey       joy  positive         1038            17       2   \n",
       "\n",
       "       Episode     StartTime       EndTime  \n",
       "0           21  00:16:16,059  00:16:21,731  \n",
       "1           21  00:16:21,940  00:16:23,442  \n",
       "2           21  00:16:23,442  00:16:26,389  \n",
       "3           21  00:16:26,820  00:16:29,572  \n",
       "4           21  00:16:34,452  00:16:40,917  \n",
       "...        ...           ...           ...  \n",
       "29962        3  00:00:48,173  00:00:50,799  \n",
       "29963        3  00:00:51,009  00:00:53,594  \n",
       "29964        3  00:01:00,518  00:01:03,520  \n",
       "29965        3  00:01:05,398  00:01:07,274  \n",
       "29966        3  00:01:08,401  00:01:12,071  \n",
       "\n",
       "[29967 rows x 11 columns]"
      ]
     },
     "execution_count": 6,
     "metadata": {},
     "output_type": "execute_result"
    }
   ],
   "source": [
    "final"
   ]
  },
  {
   "cell_type": "code",
   "execution_count": 1,
   "id": "19bcf77a-5ae4-4daa-87b4-252193c6d84d",
   "metadata": {},
   "outputs": [],
   "source": [
    "emotions = ['neutral', 'joy', 'surprise', 'anger', 'sadness', 'disgust', 'fear']"
   ]
  },
  {
   "cell_type": "code",
   "execution_count": 13,
   "id": "b6b06154-6203-471e-9f5c-d1371e303644",
   "metadata": {},
   "outputs": [],
   "source": [
    "prev = None\n",
    "\n",
    "emotion_pairs = []\n",
    "texts = []\n",
    "\n",
    "for i in final.iterrows():\n",
    "    idx, item = i\n",
    "    if prev is not None:\n",
    "        if prev['Dialogue_ID'] == item['Dialogue_ID']:\n",
    "            texts.append(f'\\\"{prev[\"Utterance\"]}\\\"\\n\\\"{item[\"Utterance\"]}\\\"')\n",
    "            emotion_pairs.append((prev['Emotion'], item['Emotion']))\n",
    "        \n",
    "    prev = item"
   ]
  },
  {
   "cell_type": "code",
   "execution_count": 15,
   "id": "bbb17e52-ad06-4f6b-836d-aa3be5b38259",
   "metadata": {},
   "outputs": [],
   "source": [
    "df = pd.DataFrame({'text': texts, 'emotion_pair': emotion_pairs})"
   ]
  },
  {
   "cell_type": "code",
   "execution_count": 27,
   "id": "2140f055-dde8-4774-99e7-ca204dea7de3",
   "metadata": {
    "collapsed": true,
    "jupyter": {
     "outputs_hidden": true
    }
   },
   "outputs": [
    {
     "name": "stdout",
     "output_type": "stream",
     "text": [
      "joy\n"
     ]
    },
    {
     "name": "stderr",
     "output_type": "stream",
     "text": [
      "100%|██████████████████████████████████| 26853/26853 [00:00<00:00, 28560.09it/s]\n"
     ]
    },
    {
     "name": "stdout",
     "output_type": "stream",
     "text": [
      "surprise\n"
     ]
    },
    {
     "name": "stderr",
     "output_type": "stream",
     "text": [
      "100%|██████████████████████████████████| 26853/26853 [00:00<00:00, 31236.98it/s]\n"
     ]
    },
    {
     "name": "stdout",
     "output_type": "stream",
     "text": [
      "anger\n"
     ]
    },
    {
     "name": "stderr",
     "output_type": "stream",
     "text": [
      "100%|██████████████████████████████████| 26853/26853 [00:00<00:00, 31663.35it/s]\n"
     ]
    },
    {
     "name": "stdout",
     "output_type": "stream",
     "text": [
      "sadness\n"
     ]
    },
    {
     "name": "stderr",
     "output_type": "stream",
     "text": [
      "100%|██████████████████████████████████| 26853/26853 [00:00<00:00, 31801.92it/s]\n"
     ]
    },
    {
     "name": "stdout",
     "output_type": "stream",
     "text": [
      "disgust\n"
     ]
    },
    {
     "name": "stderr",
     "output_type": "stream",
     "text": [
      "100%|██████████████████████████████████| 26853/26853 [00:00<00:00, 35496.50it/s]\n"
     ]
    },
    {
     "name": "stdout",
     "output_type": "stream",
     "text": [
      "fear\n"
     ]
    },
    {
     "name": "stderr",
     "output_type": "stream",
     "text": [
      "100%|██████████████████████████████████| 26853/26853 [00:00<00:00, 35941.25it/s]\n"
     ]
    }
   ],
   "source": [
    "from tqdm import tqdm\n",
    "\n",
    "for e in emotions[1:]:\n",
    "    print(e)\n",
    "    texts = []\n",
    "    for i in tqdm(range(len(df))):\n",
    "        if e in df.iloc[i].emotion_pair:\n",
    "            texts.append(df.iloc[i].text)\n",
    "    df_ = pd.DataFrame({'text': texts})\n",
    "    df_.to_csv(f'data/MELD_{e}.csv', index=False)"
   ]
  },
  {
   "cell_type": "code",
   "execution_count": 2,
   "id": "2fdd7aa8-3491-42e9-b7de-0a271804d553",
   "metadata": {},
   "outputs": [
    {
     "name": "stdout",
     "output_type": "stream",
     "text": [
      "MELD_neutral\n",
      "MELD_joy\n",
      "MELD_surprise\n",
      "MELD_anger\n",
      "MELD_sadness\n",
      "MELD_disgust\n",
      "MELD_fear\n"
     ]
    }
   ],
   "source": [
    "for i in emotions:\n",
    "    print(f'MELD_{i}')"
   ]
  },
  {
   "cell_type": "code",
   "execution_count": null,
   "id": "2e4b121e-6c74-4c00-a2bc-3ac1a19500f7",
   "metadata": {},
   "outputs": [],
   "source": []
  }
 ],
 "metadata": {
  "kernelspec": {
   "display_name": "Python 3 (ipykernel)",
   "language": "python",
   "name": "python3"
  },
  "language_info": {
   "codemirror_mode": {
    "name": "ipython",
    "version": 3
   },
   "file_extension": ".py",
   "mimetype": "text/x-python",
   "name": "python",
   "nbconvert_exporter": "python",
   "pygments_lexer": "ipython3",
   "version": "3.11.5"
  }
 },
 "nbformat": 4,
 "nbformat_minor": 5
}
